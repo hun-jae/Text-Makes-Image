{
  "cells": [
    {
      "cell_type": "code",
      "execution_count": null,
      "metadata": {
        "colab": {
          "base_uri": "https://localhost:8080/"
        },
        "id": "rzy52jvxvgFJ",
        "outputId": "c414fab0-6078-4831-ac76-f2347942d010"
      },
      "outputs": [
        {
          "name": "stdout",
          "output_type": "stream",
          "text": [
            "Requirement already satisfied: konlpy in /usr/local/lib/python3.7/dist-packages (0.6.0)\n",
            "Requirement already satisfied: JPype1>=0.7.0 in /usr/local/lib/python3.7/dist-packages (from konlpy) (1.3.0)\n",
            "Requirement already satisfied: lxml>=4.1.0 in /usr/local/lib/python3.7/dist-packages (from konlpy) (4.2.6)\n",
            "Requirement already satisfied: numpy>=1.6 in /usr/local/lib/python3.7/dist-packages (from konlpy) (1.21.5)\n",
            "Requirement already satisfied: typing-extensions in /usr/local/lib/python3.7/dist-packages (from JPype1>=0.7.0->konlpy) (3.10.0.2)\n",
            "Requirement already satisfied: urllib3 in /usr/local/lib/python3.7/dist-packages (1.24.3)\n",
            "Requirement already satisfied: pandas in /usr/local/lib/python3.7/dist-packages (1.3.5)\n",
            "Requirement already satisfied: numpy>=1.17.3 in /usr/local/lib/python3.7/dist-packages (from pandas) (1.21.5)\n",
            "Requirement already satisfied: python-dateutil>=2.7.3 in /usr/local/lib/python3.7/dist-packages (from pandas) (2.8.2)\n",
            "Requirement already satisfied: pytz>=2017.3 in /usr/local/lib/python3.7/dist-packages (from pandas) (2018.9)\n",
            "Requirement already satisfied: six>=1.5 in /usr/local/lib/python3.7/dist-packages (from python-dateutil>=2.7.3->pandas) (1.15.0)\n"
          ]
        }
      ],
      "source": [
        "!pip install konlpy\n",
        "!python -m pip install urllib3\n",
        "!pip install pandas"
      ]
    },
    {
      "cell_type": "code",
      "execution_count": null,
      "metadata": {
        "id": "ovpXxLDhvkxh"
      },
      "outputs": [],
      "source": [
        "from konlpy.tag import Hannanum,Komoran, Okt, Kkma\n",
        "import urllib.request\n",
        "import pandas as pd\n",
        "hannanum = Hannanum()\n",
        "komoran = Komoran()\n",
        "okt = Okt()\n",
        "kkm = Kkma()"
      ]
    },
    {
      "cell_type": "code",
      "execution_count": null,
      "metadata": {
        "colab": {
          "base_uri": "https://localhost:8080/"
        },
        "id": "hlXgmjGyvqno",
        "outputId": "dd9b2812-ef65-4f73-9a8d-1eaaa58e3c43"
      },
      "outputs": [
        {
          "name": "stdout",
          "output_type": "stream",
          "text": [
            "[('나', 'N'), ('는', 'J'), ('오늘', 'N'), ('아침', 'N'), ('에', 'J'), ('일어나', 'P'), ('아', 'E'), ('학교', 'N'), ('에', 'J'), ('가', 'P'), ('아다', 'E'), ('.', 'S')]\n",
            "[('나', 'NP'), ('는', 'JX'), ('오늘', 'NNG'), ('아침', 'NNG'), ('에', 'JKB'), ('일어나', 'VV'), ('아서', 'EC'), ('학교', 'NNG'), ('에', 'JKB'), ('가', 'VV'), ('았', 'EP'), ('다', 'EF'), ('.', 'SF')]\n",
            "[('나', 'Noun'), ('는', 'Josa'), ('오늘', 'Noun'), ('아침', 'Noun'), ('에', 'Josa'), ('일어나서', 'Noun'), ('학교', 'Noun'), ('에', 'Josa'), ('갔다', 'Verb'), ('.', 'Punctuation')]\n",
            "[('내가', 'NNG'), ('오늘', 'NNG'), ('아침', 'NNG'), ('에', 'JKM'), ('일어나', 'VV'), ('서', 'ECD'), ('학교', 'NNG'), ('에', 'JKM'), ('가', 'VV'), ('었', 'EPT'), ('다', 'EFN'), ('.', 'SF')]\n"
          ]
        }
      ],
      "source": [
        "#morphs, nouns, pos\n",
        "\n",
        "han = hannanum.pos(\"나는 오늘 아침에 일어나서 학교에 갔다.\")\n",
        "print(han)\n",
        "\n",
        "kom = komoran.pos(\"나는 오늘 아침에 일어나서 학교에 갔다.\")\n",
        "print(kom)\n",
        "\n",
        "OKT = okt.pos(\"나는 오늘 아침에 일어나서 학교에 갔다.\")\n",
        "print(OKT)\n",
        "\n",
        "KKM = kkm.pos(\"내가 오늘 아침에 일어나서 학교에 갔다.\")\n",
        "print(KKM)"
      ]
    },
    {
      "cell_type": "code",
      "execution_count": null,
      "metadata": {
        "id": "YTeBsElqXu_L"
      },
      "outputs": [],
      "source": [
        "urllib.request.urlretrieve(\"https://raw.githubusercontent.com/e9t/nsmc/master/ratings_train.txt\", filename=\"ratings_train.txt\")\n",
        "urllib.request.urlretrieve(\"https://raw.githubusercontent.com/e9t/nsmc/master/ratings_test.txt\", filename=\"ratings_test.txt\")\n",
        "train = pd.read_table('/content/ratings_train.txt')\n",
        "test_data = pd.read_table('/content/ratings_test.txt')"
      ]
    },
    {
      "cell_type": "code",
      "execution_count": null,
      "metadata": {
        "colab": {
          "background_save": true,
          "base_uri": "https://localhost:8080/"
        },
        "id": "tGoZGsMav2D1",
        "outputId": "205c1b6a-971a-4502-c1be-38db7df7737d"
      },
      "outputs": [
        {
          "name": "stderr",
          "output_type": "stream",
          "text": [
            "100%|██████████| 50000/50000 [04:02<00:00, 206.26it/s]\n",
            "100%|██████████| 50000/50000 [00:54<00:00, 915.40it/s]\n",
            "100%|██████████| 50000/50000 [03:19<00:00, 250.94it/s]\n",
            "100%|██████████| 50000/50000 [35:02<00:00, 23.78it/s]\n"
          ]
        },
        {
          "data": {
            "text/plain": [
              "Text(0, 0.5, 'total seconds')"
            ]
          },
          "execution_count": null,
          "metadata": {},
          "output_type": "execute_result"
        },
        {
          "data": {
            "image/png": "[encoded data removed]",
            "text/plain": [
              "<Figure size 720x576 with 1 Axes>"
            ]
          },
          "metadata": {},
          "output_type": "display_data"
        }
      ],
      "source": [
        "import time\n",
        "from tqdm import tqdm\n",
        "\n",
        "def tagger_time(tagger, texts):\n",
        "  time_sum = 0\n",
        "\n",
        "  for sentence in tqdm(texts):\n",
        "    t1 = time.time()\n",
        "    try:\n",
        "      tagger.morphs(sentence)\n",
        "    except:\n",
        "      pass\n",
        "    t2 = time.time()\n",
        "\n",
        "    time_sum += (t2 - t1)\n",
        "\n",
        "  return time_sum\n",
        "texts = train['document'][:50000]\n",
        "time_list = []\n",
        "\n",
        "for tagger in [hannanum, komoran, okt, kkm]:\n",
        "  time_list.append(tagger_time(tagger, texts))\n",
        "import matplotlib.pyplot as plt\n",
        "import seaborn as sns\n",
        "sns.set_style('whitegrid')\n",
        "\n",
        "tagger = ['Hannanum', 'Komoran', 'Okt', 'Kkm']\n",
        "\n",
        "plt.figure(figsize=(10,8))\n",
        "plt.bar(tagger, time_list, color=(0.4,0.7,0.5))\n",
        "plt.title('Learning Time for 10000 reviews', fontsize=17)\n",
        "plt.xticks(fontsize=14)\n",
        "plt.ylabel('total seconds')"
      ]
    },
    {
      "cell_type": "code",
      "execution_count": null,
      "metadata": {
        "id": "v2CfF-oLXGOk"
      },
      "outputs": [],
      "source": [
        "import requests\n",
        "def get_translate(text):\n",
        "    client_id = \"Input your naverapi ID\"\n",
        "    client_secret = \"Input your naverapi password\" \n",
        "\n",
        "    data = {'text' : text,\n",
        "            'source' : 'ko',\n",
        "            'target': 'en'}\n",
        "\n",
        "    url = \"https://openapi.naver.com/v1/papago/n2mt\"\n",
        "\n",
        "    header = {\"X-Naver-Client-Id\":client_id,\n",
        "              \"X-Naver-Client-Secret\":client_secret}\n",
        "\n",
        "    response = requests.post(url, headers=header, data=data)\n",
        "    rescode = response.status_code\n",
        "\n",
        "    if(rescode==200):\n",
        "        send_data = response.json()\n",
        "        trans_data = (send_data['message']['result']['translatedText'])\n",
        "        return trans_data\n",
        "    else:\n",
        "        print(\"Error Code:\" , rescode)\n"
      ]
    },
    {
      "cell_type": "code",
      "source": [
        "trans = get_translate(\"나는 오늘 아침에 일어나서 학교에 갔다.\")\n",
        "trans"
      ],
      "metadata": {
        "id": "B9sfyl7-C4eF",
        "colab": {
          "base_uri": "https://localhost:8080/",
          "height": 36
        },
        "outputId": "900a072e-ad15-49f1-acde-8fe264f937a5"
      },
      "execution_count": null,
      "outputs": [
        {
          "output_type": "execute_result",
          "data": {
            "text/plain": [
              "'I woke up this morning and went to school.'"
            ],
            "application/vnd.google.colaboratory.intrinsic+json": {
              "type": "string"
            }
          },
          "metadata": {},
          "execution_count": 37
        }
      ]
    },
    {
      "cell_type": "code",
      "source": [
        "import nltk\n",
        "from nltk import word_tokenize\n",
        "nltk.download('punkt')\n",
        "token_text = word_tokenize(trans)\n",
        "token_text"
      ],
      "metadata": {
        "colab": {
          "base_uri": "https://localhost:8080/"
        },
        "id": "wXofiE1KJrT_",
        "outputId": "c260f891-92f4-44e9-b772-e0dd3c4a4fc9"
      },
      "execution_count": null,
      "outputs": [
        {
          "output_type": "stream",
          "name": "stdout",
          "text": [
            "[nltk_data] Downloading package punkt to /root/nltk_data...\n",
            "[nltk_data]   Package punkt is already up-to-date!\n"
          ]
        },
        {
          "output_type": "execute_result",
          "data": {
            "text/plain": [
              "['I', 'woke', 'up', 'this', 'morning', 'and', 'went', 'to', 'school', '.']"
            ]
          },
          "metadata": {},
          "execution_count": 42
        }
      ]
    },
    {
      "cell_type": "code",
      "source": [
        "print(nltk.pos_tag(token_text))"
      ],
      "metadata": {
        "colab": {
          "base_uri": "https://localhost:8080/"
        },
        "id": "OgrziHIWF38O",
        "outputId": "4dac173b-e3a7-49e9-9032-aa6228f57309"
      },
      "execution_count": null,
      "outputs": [
        {
          "output_type": "stream",
          "name": "stdout",
          "text": [
            "[('I', 'PRP'), ('woke', 'VBD'), ('up', 'RP'), ('this', 'DT'), ('morning', 'NN'), ('and', 'CC'), ('went', 'VBD'), ('to', 'TO'), ('school', 'NN'), ('.', '.')]\n"
          ]
        }
      ]
    },
    {
      "cell_type": "code",
      "source": [
        ""
      ],
      "metadata": {
        "id": "H8Kmy_PeKBFO"
      },
      "execution_count": null,
      "outputs": []
    }
  ],
  "metadata": {
    "colab": {
      "collapsed_sections": [],
      "name": "Hannanum.ipynb",
      "provenance": []
    },
    "kernelspec": {
      "display_name": "Python 3",
      "name": "python3"
    },
    "language_info": {
      "name": "python"
    }
  },
  "nbformat": 4,
  "nbformat_minor": 0
}